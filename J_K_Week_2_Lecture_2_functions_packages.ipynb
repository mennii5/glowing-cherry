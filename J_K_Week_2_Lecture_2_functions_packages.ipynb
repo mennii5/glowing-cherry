{
  "cells": [
    {
      "cell_type": "markdown",
      "metadata": {
        "id": "view-in-github",
        "colab_type": "text"
      },
      "source": [
        "<a href=\"https://colab.research.google.com/github/mennii5/glowing-cherry/blob/master/J_K_Week_2_Lecture_2_functions_packages.ipynb\" target=\"_parent\"><img src=\"https://colab.research.google.com/assets/colab-badge.svg\" alt=\"Open In Colab\"/></a>"
      ]
    },
    {
      "cell_type": "markdown",
      "source": [
        "# Understanding Library or package"
      ],
      "metadata": {
        "id": "U2hECpMdWmWL"
      },
      "id": "U2hECpMdWmWL"
    },
    {
      "cell_type": "markdown",
      "source": [
        "The best way to understand a library/ package in a programming language such as Python/ R is to relate them with the add-ins in Excel. In your BADM 210 course, you had to add \"Data Analysis Toolpack\" to your excel in order to run Linear Regression model. This means that the \"Data Analysis Toolpack\" brought in some functionalities that your base Excel didn't have, Regression Model. \n",
        "\n",
        "Similarly, we frequently supplement base Python with special functionalities using specific packages/ libraries. Here is a list of a few most frequently used librraries in Data Analysis. \n",
        "\n",
        "\n",
        "\n",
        "*   Pandas - A library for functionalities for data analysis and manipulation \n",
        "*   Numpy - This library offers comprehensive mathematical functions, random number generators, linear algebra routines\n",
        "\n",
        "*   Matplotlib - Matplotlib is a comprehensive library for creating static, animated, and interactive visualizations in Python\n",
        "*   Sklearn - A python library that provides simple and efficient tools for predictive data analysis\n",
        "\n",
        "We may use a few other libraries in this course. \n",
        "\n",
        "\n",
        "\n",
        "\n"
      ],
      "metadata": {
        "id": "KOMEuWl-UQzV"
      },
      "id": "KOMEuWl-UQzV"
    },
    {
      "cell_type": "markdown",
      "source": [
        "# Installing packages (aka libraries in Python)"
      ],
      "metadata": {
        "id": "bD8RsIIVUEUX"
      },
      "id": "bD8RsIIVUEUX"
    },
    {
      "cell_type": "markdown",
      "source": [
        "Installing - Downloading the library from internet onto your current machine. For most software programs, you need to install a software only once as it remains on your machine. You may be required to update it periodically. \n",
        "\n",
        "*Most packages/ librraies in Pyhton come pre-installed in every Colab session. However, if there is any package that does not come pre-installed, you must first install it using the code \"!pip install package_name\". After installing, you can import them.  \n",
        "\n",
        "\n",
        "\n"
      ],
      "metadata": {
        "id": "pOw1sDYOUQ2t"
      },
      "id": "pOw1sDYOUQ2t"
    },
    {
      "cell_type": "markdown",
      "source": [
        "#Importing packages (aka libraries in Python)"
      ],
      "metadata": {
        "id": "4sUb7EhFcVaD"
      },
      "id": "4sUb7EhFcVaD"
    },
    {
      "cell_type": "markdown",
      "source": [
        "\n",
        "Importing - Loading the library for use in the current Pyhton session. Every package/ librray must be imported in a new Colab session. Once a package/ library is imported, you will be able to use a fucntionality (function) from it using the following syntax \"package_name.fucntion_name(arguments)\"\n",
        "\n",
        "Alias - Since we need to use the package name everytime we call a fucntion from it, it may be cumbersome to write the full package name. Thus, we can use a short name (alias) for a package.\n",
        "\n",
        "To increase collaboration, people use a standard alias for each package: Pandas - pd Numpy - np Matplotlib.pyplot - plt\n",
        "\n",
        "In Matplotlib.pyplot, Matplotlib is a library and pyplot is a sub-library. If a library is huge, to save your RAM, you may only import a specific component (sub-library of it).\n",
        "\n",
        "Sometimes, instead of importing a library or sub-library, you may simply import a specific fucntion if that's all you want to use in the given notebook session."
      ],
      "metadata": {
        "id": "ycM-yrLQc5y7"
      },
      "id": "ycM-yrLQc5y7"
    },
    {
      "cell_type": "markdown",
      "source": [
        "## Packages\n",
        "- A Python package is a collection python code specializing in certain task such as matplotlib for data visualization and numpy for numerical operations\n",
        "- To import a package (it should be installed already), we use the import statement\n",
        "- We can optionally use aliases to later refer to a package1"
      ],
      "metadata": {
        "id": "yKhTC_lRfDp_"
      },
      "id": "yKhTC_lRfDp_"
    },
    {
      "cell_type": "code",
      "source": [
        "import numpy as np"
      ],
      "metadata": {
        "id": "HUxD_N__jHgc"
      },
      "id": "HUxD_N__jHgc",
      "execution_count": 26,
      "outputs": []
    },
    {
      "cell_type": "markdown",
      "source": [
        "## Comments\n",
        "In python comments can be used,\n",
        "- to explain Python code.\n",
        "\n",
        "- to make the code more readable.\n",
        "\n",
        "- to prevent execution when testing code.\n",
        "\n",
        "- Important when writing functions that consists of hundreds of lines of code\n",
        "\n",
        "We add comments to code cells using hash ``` # ```"
      ],
      "metadata": {
        "id": "lu08tjxepJzR"
      },
      "id": "lu08tjxepJzR"
    },
    {
      "cell_type": "code",
      "source": [
        "# print('this is comment') \n",
        "print('this is comment')"
      ],
      "metadata": {
        "id": "HncC_m9dpebW",
        "colab": {
          "base_uri": "https://localhost:8080/",
          "height": 0
        },
        "outputId": "15a51ae2-561c-4216-d5f7-fb35342b857e"
      },
      "id": "HncC_m9dpebW",
      "execution_count": 27,
      "outputs": [
        {
          "output_type": "stream",
          "name": "stdout",
          "text": [
            "this is comment\n"
          ]
        }
      ]
    },
    {
      "cell_type": "markdown",
      "source": [
        "## Functions\n",
        "\n",
        "What is a function?\n",
        "\n",
        "A named section of a code that performs a specific task\n",
        "\n",
        "Each package contains many functions to perform certain tasks that can be called using . operator\n",
        "\n",
        "A paranthesis after the name of an object tells python that the object is a function so never forget paranthesis!"
      ],
      "metadata": {
        "id": "cQMCDu4vl2kq"
      },
      "id": "cQMCDu4vl2kq"
    },
    {
      "cell_type": "code",
      "source": [
        "np.sqrt(9)"
      ],
      "metadata": {
        "id": "OY3t-ppLnThT",
        "colab": {
          "base_uri": "https://localhost:8080/",
          "height": 0
        },
        "outputId": "29ea24a5-ebfe-4356-cac5-ab17a10114c2"
      },
      "id": "OY3t-ppLnThT",
      "execution_count": 28,
      "outputs": [
        {
          "output_type": "execute_result",
          "data": {
            "text/plain": [
              "3.0"
            ]
          },
          "metadata": {},
          "execution_count": 28
        }
      ]
    },
    {
      "cell_type": "markdown",
      "source": [
        "### User Defined Functions\n",
        "Let's define our own function to calculate area of a triangle given its base and height. "
      ],
      "metadata": {
        "id": "jSEDoKTpn1ZW"
      },
      "id": "jSEDoKTpn1ZW"
    },
    {
      "cell_type": "code",
      "source": [
        "def area_function(base, height):  # We are defining the function \"area_function\" that takes two arguments (input) \"base\" and \"height\"\n",
        "  area = 0.5 * base * height # We must indent the second line  in function defition also. \n",
        "  return(area)"
      ],
      "metadata": {
        "id": "5xhlsHG7oDaE"
      },
      "id": "5xhlsHG7oDaE",
      "execution_count": 29,
      "outputs": []
    },
    {
      "cell_type": "code",
      "source": [
        "# Let us rewrite the code again here to see auto indentation\n",
        "def my_sum(argument_1, argument_2):\n",
        "  result = argument_1 + argument_2\n",
        "  return(result)\n",
        "\n"
      ],
      "metadata": {
        "id": "tQb5xt6GH-jz"
      },
      "id": "tQb5xt6GH-jz",
      "execution_count": 30,
      "outputs": []
    },
    {
      "cell_type": "code",
      "source": [
        ""
      ],
      "metadata": {
        "id": "4l7GlZxO2qLV"
      },
      "id": "4l7GlZxO2qLV",
      "execution_count": 30,
      "outputs": []
    },
    {
      "cell_type": "code",
      "source": [
        "my_sum(4,5)"
      ],
      "metadata": {
        "colab": {
          "base_uri": "https://localhost:8080/",
          "height": 0
        },
        "id": "eGH2IVD62qPz",
        "outputId": "561df091-d6fd-4587-ff0c-4a349bc73cd6"
      },
      "id": "eGH2IVD62qPz",
      "execution_count": 31,
      "outputs": [
        {
          "output_type": "execute_result",
          "data": {
            "text/plain": [
              "9"
            ]
          },
          "metadata": {},
          "execution_count": 31
        }
      ]
    },
    {
      "cell_type": "code",
      "source": [
        "\n",
        "print()"
      ],
      "metadata": {
        "colab": {
          "base_uri": "https://localhost:8080/",
          "height": 0
        },
        "id": "jsN6TJVa3ZGi",
        "outputId": "b8ac9c35-76a6-463c-c5fc-15d2f958dfbc"
      },
      "id": "jsN6TJVa3ZGi",
      "execution_count": 32,
      "outputs": [
        {
          "output_type": "stream",
          "name": "stdout",
          "text": [
            "\n"
          ]
        }
      ]
    },
    {
      "cell_type": "markdown",
      "source": [
        "Use the function we just created to calculate the area of a triangle with base and height 10 cm and 20 cm respectively. "
      ],
      "metadata": {
        "id": "bsSZIU52oNV4"
      },
      "id": "bsSZIU52oNV4"
    },
    {
      "cell_type": "code",
      "source": [
        "area_function(base = 10, height = 20)"
      ],
      "metadata": {
        "id": "I9KNd8BqoSjH",
        "colab": {
          "base_uri": "https://localhost:8080/",
          "height": 0
        },
        "outputId": "5052b131-8b2b-4bcb-c0cf-2352f67bd723"
      },
      "id": "I9KNd8BqoSjH",
      "execution_count": 33,
      "outputs": [
        {
          "output_type": "execute_result",
          "data": {
            "text/plain": [
              "100.0"
            ]
          },
          "metadata": {},
          "execution_count": 33
        }
      ]
    },
    {
      "cell_type": "markdown",
      "source": [
        "Question: Now, create two new objects b and h, supplying them values 100 and 200. \n",
        "\n",
        "Further, instead of giving the values of base and height, pass the objects b and h as base and height to the function area_function. "
      ],
      "metadata": {
        "id": "f1kvxPQ3oyc7"
      },
      "id": "f1kvxPQ3oyc7"
    },
    {
      "cell_type": "code",
      "source": [
        "b=100\n",
        "h=200\n",
        "area_function(base=b, height=h)\n",
        "\n"
      ],
      "metadata": {
        "id": "tsI3WxdgoxaX",
        "colab": {
          "base_uri": "https://localhost:8080/",
          "height": 0
        },
        "outputId": "1a9ebda0-29d5-40f1-b53b-79222a20992c"
      },
      "id": "tsI3WxdgoxaX",
      "execution_count": 34,
      "outputs": [
        {
          "output_type": "execute_result",
          "data": {
            "text/plain": [
              "10000.0"
            ]
          },
          "metadata": {},
          "execution_count": 34
        }
      ]
    },
    {
      "cell_type": "markdown",
      "source": [
        "### Exercise\n",
        "Now, you define a fucntion my_cube_func that takes as input a number and outputs the cube of the number."
      ],
      "metadata": {
        "id": "-u2xCwoecc5x"
      },
      "id": "-u2xCwoecc5x"
    },
    {
      "cell_type": "code",
      "source": [
        "def my_cube_func(x):\n",
        "  square= x**3\n",
        "  return(square)\n",
        "\n",
        "x=2"
      ],
      "metadata": {
        "id": "1DOppakocjKi"
      },
      "id": "1DOppakocjKi",
      "execution_count": 35,
      "outputs": []
    },
    {
      "cell_type": "markdown",
      "source": [
        "### Methods\n",
        "\n",
        "Remember everything in python is an object and objects have associated methods (functions)\n"
      ],
      "metadata": {
        "id": "4eCHeMOkp5tk"
      },
      "id": "4eCHeMOkp5tk"
    },
    {
      "cell_type": "code",
      "source": [
        "class_name=\"badM211\""
      ],
      "metadata": {
        "id": "TMnr0wzMqeU6"
      },
      "id": "TMnr0wzMqeU6",
      "execution_count": 36,
      "outputs": []
    },
    {
      "cell_type": "markdown",
      "source": [
        "What is the type of class name object?  \n",
        "How would you make python to print the type of an object? "
      ],
      "metadata": {
        "id": "ybpAuTtoqgE1"
      },
      "id": "ybpAuTtoqgE1"
    },
    {
      "cell_type": "code",
      "source": [
        "# Write a code to output the type of variable class name"
      ],
      "metadata": {
        "id": "2DeSUe3gqtQE"
      },
      "id": "2DeSUe3gqtQE",
      "execution_count": 37,
      "outputs": []
    },
    {
      "cell_type": "markdown",
      "source": [
        "Let us try several methods ```.replace(), lower(), capitalize() ```"
      ],
      "metadata": {
        "id": "1GLx2xZBq7DV"
      },
      "id": "1GLx2xZBq7DV"
    },
    {
      "cell_type": "code",
      "source": [
        "my_name= \"mel\""
      ],
      "metadata": {
        "id": "2Tnf1H-ArjXV"
      },
      "id": "2Tnf1H-ArjXV",
      "execution_count": 38,
      "outputs": []
    },
    {
      "cell_type": "code",
      "source": [
        "my_name.capitalize()"
      ],
      "metadata": {
        "colab": {
          "base_uri": "https://localhost:8080/",
          "height": 38
        },
        "id": "0s0hH9uR574c",
        "outputId": "a1413e86-ee7a-49da-e58d-9ff18eb9cc03"
      },
      "id": "0s0hH9uR574c",
      "execution_count": 39,
      "outputs": [
        {
          "output_type": "execute_result",
          "data": {
            "application/vnd.google.colaboratory.intrinsic+json": {
              "type": "string"
            },
            "text/plain": [
              "'Mel'"
            ]
          },
          "metadata": {},
          "execution_count": 39
        }
      ]
    },
    {
      "cell_type": "code",
      "source": [
        "my_name_caps= \"MEL\"\n",
        "my_wrong_name.replace"
      ],
      "metadata": {
        "colab": {
          "base_uri": "https://localhost:8080/",
          "height": 0
        },
        "id": "O8cUZ5L06LmV",
        "outputId": "df04fd44-21cc-46ee-9b1a-aeec42d34ab7"
      },
      "id": "O8cUZ5L06LmV",
      "execution_count": 40,
      "outputs": [
        {
          "output_type": "execute_result",
          "data": {
            "text/plain": [
              "<function str.replace>"
            ]
          },
          "metadata": {},
          "execution_count": 40
        }
      ]
    },
    {
      "cell_type": "code",
      "source": [
        "my_wrong_name= \"Mol\"\n"
      ],
      "metadata": {
        "id": "mvBlJVan6jwk"
      },
      "id": "mvBlJVan6jwk",
      "execution_count": 41,
      "outputs": []
    },
    {
      "cell_type": "code",
      "source": [
        "my_wrong_name.replace(\"l\",\"h\")"
      ],
      "metadata": {
        "colab": {
          "base_uri": "https://localhost:8080/",
          "height": 38
        },
        "id": "ROZRTubV6oHZ",
        "outputId": "e1a25498-5663-4888-eadd-dba3b8a33243"
      },
      "id": "ROZRTubV6oHZ",
      "execution_count": 42,
      "outputs": [
        {
          "output_type": "execute_result",
          "data": {
            "application/vnd.google.colaboratory.intrinsic+json": {
              "type": "string"
            },
            "text/plain": [
              "'Moh'"
            ]
          },
          "metadata": {},
          "execution_count": 42
        }
      ]
    },
    {
      "cell_type": "markdown",
      "source": [
        "Methods are object specific let us next define an integer object with value 10 named age"
      ],
      "metadata": {
        "id": "qFuIb47srjwz"
      },
      "id": "qFuIb47srjwz"
    },
    {
      "cell_type": "code",
      "source": [
        "age= 10"
      ],
      "metadata": {
        "id": "K6qSj8KtrscT"
      },
      "id": "K6qSj8KtrscT",
      "execution_count": 43,
      "outputs": []
    },
    {
      "cell_type": "code",
      "source": [
        "age."
      ],
      "metadata": {
        "colab": {
          "base_uri": "https://localhost:8080/",
          "height": 134
        },
        "id": "MYqjZ1Dn688o",
        "outputId": "f926c674-cfdb-483d-90b3-5791cb8d5fac"
      },
      "id": "MYqjZ1Dn688o",
      "execution_count": 44,
      "outputs": [
        {
          "output_type": "error",
          "ename": "SyntaxError",
          "evalue": "ignored",
          "traceback": [
            "\u001b[0;36m  File \u001b[0;32m\"<ipython-input-44-1426984a1da5>\"\u001b[0;36m, line \u001b[0;32m1\u001b[0m\n\u001b[0;31m    age.\u001b[0m\n\u001b[0m        ^\u001b[0m\n\u001b[0;31mSyntaxError\u001b[0m\u001b[0;31m:\u001b[0m invalid syntax\n"
          ]
        }
      ]
    },
    {
      "cell_type": "markdown",
      "source": [
        "Let us try to use the ``` capitalize() ``` method on the variable age"
      ],
      "metadata": {
        "id": "L5__pGhWrtBH"
      },
      "id": "L5__pGhWrtBH"
    },
    {
      "cell_type": "code",
      "source": [
        ""
      ],
      "metadata": {
        "id": "P0kyNjXZsF99"
      },
      "id": "P0kyNjXZsF99",
      "execution_count": null,
      "outputs": []
    },
    {
      "cell_type": "markdown",
      "source": [
        "Why did we see this message?"
      ],
      "metadata": {
        "id": "lWEqAo5MsJqx"
      },
      "id": "lWEqAo5MsJqx"
    },
    {
      "cell_type": "markdown",
      "metadata": {
        "id": "dbEfkV0uOsBC"
      },
      "source": [
        "## Data Types (Recap)\n",
        "\n",
        "A _datatype_ tells us how data items are categorized and, consequently, what we can do with those data items.\n",
        "\n",
        "There are lots of different data types in Python:\n",
        "\n",
        "| Category      | Data Types         |\n",
        "| -----------   | -----------        |\n",
        "| Text Type      | str                |\n",
        "| Numeric Types | int, float, complex|\n",
        "| Sequence Types| list, tuple, range |\n",
        "| Mapping Type  | dict               |\n",
        "| Set Types     | set, frozenset     |\n",
        "| Boolean Type  | bool               |\n",
        "\n",
        "\n",
        "DataCamp has mentioned a few so far.\n",
        "1. Floats: Real number, includes a decimal point\n",
        "2. Integers: Positive or negative whole numbers, no fractions or decimals\n",
        "3. Booleans: True or False\n",
        "4. Strings: Characters inside quotation marks (“text” or ‘text’ or ‘’‘text’’’)\n"
      ],
      "id": "dbEfkV0uOsBC"
    },
    {
      "cell_type": "code",
      "execution_count": null,
      "metadata": {
        "collapsed": true,
        "id": "wNrEgZamOsBG"
      },
      "outputs": [],
      "source": [
        "var1 = \"Hello, World\"\n",
        "type(var1)"
      ],
      "id": "wNrEgZamOsBG"
    },
    {
      "cell_type": "code",
      "execution_count": null,
      "metadata": {
        "collapsed": true,
        "id": "vc6kHh8HOsBI"
      },
      "outputs": [],
      "source": [
        "var2 = 2\n",
        "type(var2)"
      ],
      "id": "vc6kHh8HOsBI"
    },
    {
      "cell_type": "code",
      "execution_count": null,
      "metadata": {
        "collapsed": true,
        "id": "Okm7TmpDOsBI"
      },
      "outputs": [],
      "source": [
        "var3 = 2.0\n",
        "type(var3)"
      ],
      "id": "Okm7TmpDOsBI"
    },
    {
      "cell_type": "code",
      "execution_count": null,
      "metadata": {
        "collapsed": true,
        "id": "TsI_OdY0OsBJ"
      },
      "outputs": [],
      "source": [
        "var4 = 1 \n",
        "type(var4)"
      ],
      "id": "TsI_OdY0OsBJ"
    },
    {
      "cell_type": "code",
      "execution_count": null,
      "metadata": {
        "collapsed": true,
        "id": "-IfGwjvxOsBJ"
      },
      "outputs": [],
      "source": [
        "var5 = True\n",
        "type(var5)"
      ],
      "id": "-IfGwjvxOsBJ"
    },
    {
      "cell_type": "code",
      "execution_count": null,
      "metadata": {
        "collapsed": true,
        "id": "b9kyNPcFOsBJ"
      },
      "outputs": [],
      "source": [
        "# Beware of case! Case matters in Python\n",
        "var6 = true\n",
        "type(var6)"
      ],
      "id": "b9kyNPcFOsBJ"
    },
    {
      "cell_type": "markdown",
      "metadata": {
        "id": "R-mFmC9qOsBM"
      },
      "source": [
        "## List\n",
        "\n",
        "Lists can include any Python object - they don't have to be a specific data type. That means that a list can also have elements that are lists!"
      ],
      "id": "R-mFmC9qOsBM"
    },
    {
      "cell_type": "code",
      "execution_count": null,
      "metadata": {
        "collapsed": true,
        "id": "-DYJldvhOsBM"
      },
      "outputs": [],
      "source": [
        "list1 = ['a', 'b', 'c']\n",
        "list2 = [['a', 'b'], 'c']\n",
        "\n",
        "print(len(list1))\n",
        "print(len(list2))\n",
        "\n",
        "print(list1[0])\n",
        "print(list2[0])"
      ],
      "id": "-DYJldvhOsBM"
    },
    {
      "cell_type": "markdown",
      "metadata": {
        "id": "BZxpAqGSOsBN"
      },
      "source": [
        "### Presidents\n",
        "Write in the markdown cell after the code cell what each line of code is doing"
      ],
      "id": "BZxpAqGSOsBN"
    },
    {
      "cell_type": "code",
      "execution_count": null,
      "metadata": {
        "collapsed": true,
        "id": "ZFxpVAQ6OsBN"
      },
      "outputs": [],
      "source": [
        "presidents = ['George Washington', 'John Adams', 'Thomas Jefferson', 'James Madison', 'James Monroe', 'John Quincy Adams', 'Andrew Jackson', 'Martin Van Buren', 'William Henry Harrison', 'John Tyler', 'James K. Polk', 'Zachary Taylor', 'Millard Fillmore', 'Franklin Pierce', 'James Buchanan', 'Abraham Lincoln', 'Andrew Johnson', 'Ulysses S. Grant', 'Rutherford B. Hayes', 'James A. Garfield', 'Chester Arthur', 'Grover Cleveland', 'Benjamin Harrison', 'Grover Cleveland', 'William McKinley', 'Theodore Roosevelt', 'William Howard Taft', 'Woodrow Wilson', 'Warren G. Harding', 'Calvin Coolidge', 'Herbert Hoover', 'Franklin D. Roosevelt', 'Harry S. Truman', 'Dwight D. Eisenhower', 'John F. Kennedy', 'Lyndon B. Johnson', 'Richard Nixon', 'Gerald Ford', 'Jimmy Carter', 'Ronald Reagan', 'George Bush', 'Bill Clinton', 'George W. Bush', 'Barack Obama', 'Donald Trump', 'Joe Biden']"
      ],
      "id": "ZFxpVAQ6OsBN"
    },
    {
      "cell_type": "markdown",
      "source": [
        "???"
      ],
      "metadata": {
        "id": "RG5hNQg4tRUX"
      },
      "id": "RG5hNQg4tRUX"
    },
    {
      "cell_type": "code",
      "execution_count": null,
      "metadata": {
        "collapsed": true,
        "id": "O9xYYvJLOsBN"
      },
      "outputs": [],
      "source": [
        "len(presidents)"
      ],
      "id": "O9xYYvJLOsBN"
    },
    {
      "cell_type": "markdown",
      "source": [
        "???"
      ],
      "metadata": {
        "id": "gGrQN1bMtmLX"
      },
      "id": "gGrQN1bMtmLX"
    },
    {
      "cell_type": "code",
      "execution_count": null,
      "metadata": {
        "collapsed": true,
        "id": "yZa_05TSOsBO"
      },
      "outputs": [],
      "source": [
        "presidents[1]"
      ],
      "id": "yZa_05TSOsBO"
    },
    {
      "cell_type": "markdown",
      "source": [
        "???"
      ],
      "metadata": {
        "id": "H5Upg0Fbtmv2"
      },
      "id": "H5Upg0Fbtmv2"
    },
    {
      "cell_type": "code",
      "execution_count": null,
      "metadata": {
        "collapsed": true,
        "id": "gSerurHoOsBO"
      },
      "outputs": [],
      "source": [
        "presidents[-1]"
      ],
      "id": "gSerurHoOsBO"
    },
    {
      "cell_type": "markdown",
      "source": [
        "???"
      ],
      "metadata": {
        "id": "uPOT9O1otnSZ"
      },
      "id": "uPOT9O1otnSZ"
    },
    {
      "cell_type": "code",
      "execution_count": null,
      "metadata": {
        "collapsed": true,
        "id": "3KmM8oHcOsBO"
      },
      "outputs": [],
      "source": [
        "presidents[45]"
      ],
      "id": "3KmM8oHcOsBO"
    },
    {
      "cell_type": "markdown",
      "source": [
        "???"
      ],
      "metadata": {
        "id": "PIekgWvktn76"
      },
      "id": "PIekgWvktn76"
    },
    {
      "cell_type": "code",
      "execution_count": null,
      "metadata": {
        "collapsed": true,
        "id": "tSfGDilnOsBO"
      },
      "outputs": [],
      "source": [
        "presidents.reverse()\n",
        "print(presidents)"
      ],
      "id": "tSfGDilnOsBO"
    },
    {
      "cell_type": "markdown",
      "source": [
        "???"
      ],
      "metadata": {
        "id": "ArY6bg7ltoou"
      },
      "id": "ArY6bg7ltoou"
    },
    {
      "cell_type": "code",
      "execution_count": null,
      "metadata": {
        "id": "xvYKjSlnOsBP"
      },
      "outputs": [],
      "source": [
        "reverse(presidents)"
      ],
      "id": "xvYKjSlnOsBP"
    },
    {
      "cell_type": "markdown",
      "source": [
        "???"
      ],
      "metadata": {
        "id": "x93b_qu8tuzL"
      },
      "id": "x93b_qu8tuzL"
    },
    {
      "cell_type": "code",
      "execution_count": null,
      "metadata": {
        "id": "q6HW3mS2OsBP"
      },
      "outputs": [],
      "source": [
        "del presidents[12:]\n",
        "print(presidents)"
      ],
      "id": "q6HW3mS2OsBP"
    },
    {
      "cell_type": "markdown",
      "source": [
        ""
      ],
      "metadata": {
        "id": "m55RMaqbQ3tT"
      },
      "id": "m55RMaqbQ3tT"
    },
    {
      "cell_type": "markdown",
      "source": [
        "???"
      ],
      "metadata": {
        "id": "x4sfc061twRy"
      },
      "id": "x4sfc061twRy"
    }
  ],
  "metadata": {
    "kernelspec": {
      "display_name": "Python 3 [3.7]",
      "language": "python",
      "name": "python3"
    },
    "language_info": {
      "codemirror_mode": {
        "name": "ipython",
        "version": 3
      },
      "file_extension": ".py",
      "mimetype": "text/x-python",
      "name": "python",
      "nbconvert_exporter": "python",
      "pygments_lexer": "ipython3",
      "version": "3.7.5"
    },
    "colab": {
      "name": "J_K  Week_2_Lecture_2_functions_packages.ipynb",
      "provenance": [],
      "collapsed_sections": [],
      "include_colab_link": true
    }
  },
  "nbformat": 4,
  "nbformat_minor": 5
}